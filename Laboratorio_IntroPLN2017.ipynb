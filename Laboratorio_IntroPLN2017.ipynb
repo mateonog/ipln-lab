{
 "cells": [
  {
   "cell_type": "markdown",
   "metadata": {},
   "source": [
    "# Laboratorio de Introducción al Procesamiento de Lenguaje Natural 2017"
   ]
  },
  {
   "cell_type": "markdown",
   "metadata": {},
   "source": [
    "## 1) Importación del corpus\n",
    "Utilizamos la librería pandas para importar y analizar el corpus de los tweets\n"
   ]
  },
  {
   "cell_type": "code",
   "execution_count": 2,
   "metadata": {
    "collapsed": true,
    "scrolled": true
   },
   "outputs": [],
   "source": [
    "import pandas\n",
    "corpus = pandas.read_csv(\"corpus_humor_training.csv\",encoding='utf-8')"
   ]
  },
  {
   "cell_type": "markdown",
   "metadata": {},
   "source": [
    "## 2) Análisis del corpus\n",
    "Realizamos un breve análisis del contenido del corpus antes del preprocesamiento"
   ]
  },
  {
   "cell_type": "code",
   "execution_count": 29,
   "metadata": {
    "scrolled": true
   },
   "outputs": [
    {
     "name": "stdout",
     "output_type": "stream",
     "text": [
      "El total de tweets es de: 12106\n",
      "\n",
      "La cantidad de votos de 1 estrella es de: 2960\n",
      "La cantidad de votos de 2 estrella es de: 2421\n",
      "La cantidad de votos de 3 estrella es de: 3274\n",
      "La cantidad de votos de 4 estrella es de: 2541\n",
      "La cantidad de votos de 5 estrella es de: 1616\n",
      "La cantidad de votos negativos es de: 14131\n",
      "El total de votos es de: 26943\n"
     ]
    }
   ],
   "source": [
    "cantTweets = len(corpus.index)\n",
    "\n",
    "cantVotos1 = corpus['1'].sum()\n",
    "cantVotos2 = corpus['2'].sum()\n",
    "cantVotos3 = corpus['3'].sum()\n",
    "cantVotos4 = corpus['4'].sum()\n",
    "cantVotos5 = corpus['5'].sum()\n",
    "cantVotosN = corpus['n'].sum()\n",
    "\n",
    "print (\"El total de tweets es de: \" + str(cantTweets)+\"\\n\")\n",
    "print (\"La cantidad de votos de 1 estrella es de: \"+str(cantVotos1))\n",
    "print (\"La cantidad de votos de 2 estrella es de: \"+str(cantVotos2))\n",
    "print (\"La cantidad de votos de 3 estrella es de: \"+str(cantVotos3))\n",
    "print (\"La cantidad de votos de 4 estrella es de: \"+str(cantVotos4))\n",
    "print (\"La cantidad de votos de 5 estrella es de: \"+str(cantVotos5))\n",
    "print (\"La cantidad de votos negativos es de: \"+str(cantVotosN)+\"\\n\")\n",
    "\n",
    "print (\"El total de votos es de: \"+str(cantVotos1+cantVotos2+cantVotos3+cantVotos4+cantVotos5+cantVotosN))\n"
   ]
  },
  {
   "cell_type": "code",
   "execution_count": 1,
   "metadata": {},
   "outputs": [
    {
     "name": "stdout",
     "output_type": "stream",
     "text": [
      "hola\n"
     ]
    }
   ],
   "source": [
    "print(\"hola\")"
   ]
  },
  {
   "cell_type": "code",
   "execution_count": null,
   "metadata": {
    "collapsed": true
   },
   "outputs": [],
   "source": []
  }
 ],
 "metadata": {
  "anaconda-cloud": {},
  "celltoolbar": "Raw Cell Format",
  "kernelspec": {
   "display_name": "Python 3",
   "language": "python",
   "name": "python3"
  },
  "language_info": {
   "codemirror_mode": {
    "name": "ipython",
    "version": 3
   },
   "file_extension": ".py",
   "mimetype": "text/x-python",
   "name": "python",
   "nbconvert_exporter": "python",
   "pygments_lexer": "ipython3",
   "version": "3.6.2"
  },
  "widgets": {
   "state": {},
   "version": "1.1.2"
  }
 },
 "nbformat": 4,
 "nbformat_minor": 1
}
